{
  "cells": [
    {
      "cell_type": "markdown",
      "metadata": {
        "id": "view-in-github",
        "colab_type": "text"
      },
      "source": [
        "<a href=\"https://colab.research.google.com/github/pratyush981/Portfolio/blob/main/CUDA%20Kernels%20with%20NUMBA.ipynb\" target=\"_parent\"><img src=\"https://colab.research.google.com/assets/colab-badge.svg\" alt=\"Open In Colab\"/></a>"
      ]
    },
    {
      "cell_type": "code",
      "execution_count": null,
      "metadata": {
        "collapsed": true,
        "id": "NMCge_xt-8wW"
      },
      "outputs": [],
      "source": [
        "from numba import cuda\n",
        "\n",
        "@cuda.jit\n",
        "def add_kernel(x, y, out):\n",
        "\n",
        "    idx = cuda.grid(1)\n",
        "    out[idx] = x[idx] + y[idx]"
      ]
    },
    {
      "cell_type": "code",
      "execution_count": null,
      "metadata": {
        "collapsed": true,
        "id": "-2-v_Y8_-8wW"
      },
      "outputs": [],
      "source": [
        "import numpy as np\n",
        "\n",
        "n = 4096\n",
        "x = np.arange(n).astype(np.int32)\n",
        "y = np.ones_like(x)\n",
        "\n",
        "d_x = cuda.to_device(x)\n",
        "d_y = cuda.to_device(y)\n",
        "d_out = cuda.device_array_like(d_x)\n",
        "threads_per_block = 128\n",
        "blocks_per_grid = 32"
      ]
    },
    {
      "cell_type": "code",
      "execution_count": null,
      "metadata": {
        "scrolled": true,
        "id": "gJHFkXZD-8wW",
        "outputId": "0605b427-fabd-4bb1-e951-694eca9a710e"
      },
      "outputs": [
        {
          "name": "stdout",
          "output_type": "stream",
          "text": [
            "[   1    2    3 ... 4094 4095 4096]\n"
          ]
        }
      ],
      "source": [
        "add_kernel[blocks_per_grid, threads_per_block](d_x, d_y, d_out)\n",
        "cuda.synchronize()\n",
        "print(d_out.copy_to_host())"
      ]
    },
    {
      "cell_type": "code",
      "execution_count": null,
      "metadata": {
        "collapsed": true,
        "id": "d3jODJ63-8wW"
      },
      "outputs": [],
      "source": [
        "import numpy as np\n",
        "\n",
        "n = 4096\n",
        "x = np.arange(n).astype(np.int32)\n",
        "y = np.ones_like(x)\n",
        "\n",
        "d_x = cuda.to_device(x)\n",
        "d_y = cuda.to_device(y)\n",
        "d_out = cuda.device_array_like(d_x)\n",
        "threads_per_block = 32\n",
        "blocks_per_grid = 32"
      ]
    },
    {
      "cell_type": "code",
      "execution_count": null,
      "metadata": {
        "id": "W9AWS-gW-8wX"
      },
      "outputs": [],
      "source": [
        "add_kernel[blocks_per_grid, threads_per_block](d_x, d_y, d_out)\n",
        "cuda.synchronize()\n",
        "print(d_out.copy_to_host())\n",
        "print(d_out.copy_to_host()[1023], d_out.copy_to_host()[1024])"
      ]
    },
    {
      "cell_type": "code",
      "execution_count": null,
      "metadata": {
        "collapsed": true,
        "id": "wyuzU5fc-8wX"
      },
      "outputs": [],
      "source": [
        "import numpy as np\n",
        "\n",
        "n = 4096\n",
        "x = np.arange(n).astype(np.int32)\n",
        "y = np.ones_like(x)\n",
        "\n",
        "d_x = cuda.to_device(x)\n",
        "d_y = cuda.to_device(y)\n",
        "d_out = cuda.device_array_like(d_x)\n",
        "threads_per_block = 128\n",
        "blocks_per_grid = 16"
      ]
    },
    {
      "cell_type": "code",
      "execution_count": null,
      "metadata": {
        "id": "69WlqPWc-8wX"
      },
      "outputs": [],
      "source": [
        "add_kernel[blocks_per_grid, threads_per_block](d_x, d_y, d_out)\n",
        "cuda.synchronize()\n",
        "print(d_out.copy_to_host())\n",
        "print(d_out.copy_to_host()[2047], d_out.copy_to_host()[2048])"
      ]
    },
    {
      "cell_type": "code",
      "execution_count": null,
      "metadata": {
        "collapsed": true,
        "id": "M37-EvRZ-8wX"
      },
      "outputs": [],
      "source": [
        "import numpy as np\n",
        "\n",
        "n = 4096\n",
        "x = np.arange(n).astype(np.int32)\n",
        "y = np.ones_like(x)\n",
        "d_x = cuda.to_device(x)\n",
        "d_y = cuda.to_device(y)\n",
        "d_out = cuda.device_array_like(d_x)\n",
        "threads_per_block = 256\n",
        "blocks_per_grid = 64"
      ]
    },
    {
      "cell_type": "code",
      "execution_count": null,
      "metadata": {
        "id": "-v8M3e_p-8wX",
        "outputId": "2e0abcda-539c-472f-b7a5-1db89794632f"
      },
      "outputs": [
        {
          "name": "stdout",
          "output_type": "stream",
          "text": [
            "[   1    2    3 ... 4094 4095 4096]\n"
          ]
        }
      ],
      "source": [
        "add_kernel[blocks_per_grid, threads_per_block](d_x, d_y, d_out)\n",
        "cuda.synchronize()\n",
        "print(d_out.copy_to_host())\n",
        "\n"
      ]
    },
    {
      "cell_type": "code",
      "execution_count": null,
      "metadata": {
        "collapsed": true,
        "id": "18lBUagQ-8wY"
      },
      "outputs": [],
      "source": [
        "import numpy as np\n",
        "\n",
        "n = 4096\n",
        "x = np.arange(n).astype(np.int32)\n",
        "y = np.ones_like(x)\n",
        "\n",
        "d_x = cuda.to_device(x)\n",
        "d_y = cuda.to_device(y)\n",
        "d_out = cuda.device_array_like(d_x)\n",
        "threads_per_block = 128\n",
        "blocks_per_grid = 32"
      ]
    },
    {
      "cell_type": "code",
      "execution_count": null,
      "metadata": {
        "id": "iLlwXRxm-8wY",
        "outputId": "05627b05-7c45-49fa-e283-dad5f349e298"
      },
      "outputs": [
        {
          "data": {
            "text/plain": [
              "'\\ndef square_device(a):\\n    return a**2\\n'"
            ]
          },
          "execution_count": 51,
          "metadata": {},
          "output_type": "execute_result"
        }
      ],
      "source": [
        "\n",
        "\"\"\"\n",
        "def square_device(a):\n",
        "    return a**2\n",
        "\"\"\""
      ]
    },
    {
      "cell_type": "code",
      "execution_count": null,
      "metadata": {
        "collapsed": true,
        "id": "oHbjk4jJ-8wY"
      },
      "outputs": [],
      "source": [
        "\n",
        "@cuda.jit\n",
        "def square_device(a, out):\n",
        "    idx = cuda.grid(1)\n",
        "    out[idx] = a[idx] ** 2"
      ]
    },
    {
      "cell_type": "code",
      "execution_count": null,
      "metadata": {
        "collapsed": true,
        "id": "B7Hzxm7G-8wY"
      },
      "outputs": [],
      "source": [
        "\n",
        "n = 4096\n",
        "\n",
        "a = np.arange(n)\n",
        "out = a**2"
      ]
    },
    {
      "cell_type": "code",
      "execution_count": null,
      "metadata": {
        "id": "WJ3pWBc7-8wY"
      },
      "outputs": [],
      "source": [
        "d_a = cuda.to_device(a)\n",
        "d_out = cuda.device_array_like(d_a)\n",
        "blocks = 32\n",
        "threads = 128\n",
        "\n",
        "\n",
        "\n",
        "square_device[blocks, threads](d_a, d_out)"
      ]
    },
    {
      "cell_type": "code",
      "execution_count": null,
      "metadata": {
        "collapsed": true,
        "id": "xJQVnE0P-8wY"
      },
      "outputs": [],
      "source": [
        "from numpy import testing\n",
        "testing.assert_almost_equal(d_out, out)"
      ]
    },
    {
      "cell_type": "code",
      "execution_count": null,
      "metadata": {
        "collapsed": true,
        "id": "QBC36rN9-8wZ"
      },
      "outputs": [],
      "source": [
        "from numba import cuda\n",
        "\n",
        "@cuda.jit\n",
        "def add_kernel(x, y, out):\n",
        "\n",
        "\n",
        "    start = cuda.grid(1)\n",
        "    stride = cuda.gridsize(1)\n",
        "    for i in range(start, x.shape[0], stride):\n",
        "        out[i] = x[i] + y[i]"
      ]
    },
    {
      "cell_type": "code",
      "execution_count": null,
      "metadata": {
        "collapsed": true,
        "id": "-2l1xGQw-8wZ"
      },
      "outputs": [],
      "source": [
        "import numpy as np\n",
        "\n",
        "n = 100000\n",
        "x = np.arange(n).astype(np.int32)\n",
        "y = np.ones_like(x)\n",
        "\n",
        "d_x = cuda.to_device(x)\n",
        "d_y = cuda.to_device(y)\n",
        "d_out = cuda.device_array_like(d_x)\n",
        "\n",
        "threads_per_block = 128\n",
        "blocks_per_grid = 30"
      ]
    },
    {
      "cell_type": "code",
      "execution_count": null,
      "metadata": {
        "id": "3p7vwhj--8wZ",
        "outputId": "4ae55b63-8cd6-4e70-e14f-b03d42d5c169"
      },
      "outputs": [
        {
          "name": "stdout",
          "output_type": "stream",
          "text": [
            "[     1      2      3 ...  99998  99999 100000]\n"
          ]
        }
      ],
      "source": [
        "add_kernel[blocks_per_grid, threads_per_block](d_x, d_y, d_out)\n",
        "print(d_out.copy_to_host())"
      ]
    },
    {
      "cell_type": "code",
      "execution_count": null,
      "metadata": {
        "id": "Fem8SSYz-8wa",
        "outputId": "ccb4039d-0fb6-4095-d608-ab167c03b184"
      },
      "outputs": [
        {
          "data": {
            "text/plain": [
              "'\\nfrom math import hypot\\n\\ndef hypot_stride(a, b, c):\\n    c = hypot(a, b)\\n'"
            ]
          },
          "execution_count": 70,
          "metadata": {},
          "output_type": "execute_result"
        }
      ],
      "source": [
        "\"\"\"\n",
        "from math import hypot\n",
        "\n",
        "def hypot_stride(a, b, c):\n",
        "    c = hypot(a, b)\n",
        "\"\"\""
      ]
    },
    {
      "cell_type": "code",
      "execution_count": null,
      "metadata": {
        "collapsed": true,
        "id": "E81pVbdj-8wb"
      },
      "outputs": [],
      "source": [
        "from math import hypot\n",
        "\n",
        "@cuda.jit\n",
        "def hypot_stride(a, b, c):\n",
        "    idx = cuda.grid(1)\n",
        "    stride = cuda.gridsize(1)\n",
        "    for i in range(idx, a.shape[0], stride):\n",
        "        c[i] = hypot(a[i], b[i])\n"
      ]
    },
    {
      "cell_type": "code",
      "execution_count": null,
      "metadata": {
        "id": "jjtfoI7_-8wb"
      },
      "outputs": [],
      "source": [
        "\n",
        "n = 1000000\n",
        "a = np.random.uniform(-12, 12, n).astype(np.float32)\n",
        "b = np.random.uniform(-12, 12, n).astype(np.float32)\n",
        "d_a = cuda.to_device(a)\n",
        "d_b = cuda.to_device(b)\n",
        "d_c = cuda.device_array_like(d_b)\n",
        "\n",
        "blocks = 128\n",
        "threads_per_block = 64\n",
        "\n",
        "hypot_stride[blocks, threads_per_block](d_a, d_b, d_c)"
      ]
    },
    {
      "cell_type": "code",
      "execution_count": null,
      "metadata": {
        "collapsed": true,
        "id": "QnUTDc_V-8wb"
      },
      "outputs": [],
      "source": [
        "from numpy import testing\n",
        "testing.assert_almost_equal(np.hypot(a,b), d_c.copy_to_host(), decimal=5)"
      ]
    },
    {
      "cell_type": "code",
      "execution_count": null,
      "metadata": {
        "collapsed": true,
        "id": "S1203BvF-8wb"
      },
      "outputs": [],
      "source": [
        "from numba import jit\n",
        "\n",
        "@jit\n",
        "def numba_hypot(a, b):\n",
        "    return np.hypot(a, b)"
      ]
    },
    {
      "cell_type": "code",
      "execution_count": null,
      "metadata": {
        "id": "1hkyL3Gf-8wc",
        "outputId": "03166770-62db-41b8-a266-38dc40b83edb"
      },
      "outputs": [
        {
          "name": "stdout",
          "output_type": "stream",
          "text": [
            "4.97 ms ± 6.75 µs per loop (mean ± std. dev. of 7 runs, 100 loops each)\n"
          ]
        }
      ],
      "source": [
        "%timeit numba_hypot(a, b)"
      ]
    },
    {
      "cell_type": "code",
      "execution_count": null,
      "metadata": {
        "id": "a3wjhBYG-8wc"
      },
      "outputs": [],
      "source": [
        "%time hypot_stride[128, 64](d_a, d_b, d_c); cuda.synchronize()"
      ]
    },
    {
      "cell_type": "code",
      "execution_count": null,
      "metadata": {
        "collapsed": true,
        "id": "A8eRwzF6-8wd"
      },
      "outputs": [],
      "source": [
        "@cuda.jit\n",
        "def thread_counter_race_condition(global_counter):\n",
        "    global_counter[0] += 1  # This is bad\n",
        "\n",
        "@cuda.jit\n",
        "def thread_counter_safe(global_counter):\n",
        "    cuda.atomic.add(global_counter, 0, 1)"
      ]
    },
    {
      "cell_type": "code",
      "execution_count": null,
      "metadata": {
        "id": "gnRJIj_B-8wd",
        "outputId": "43323a3e-91a5-423a-fe5d-a727e2ac6017"
      },
      "outputs": [
        {
          "name": "stdout",
          "output_type": "stream",
          "text": [
            "Should be 4096: [1]\n"
          ]
        }
      ],
      "source": [
        "# This gets the wrong answer\n",
        "global_counter = cuda.to_device(np.array([0], dtype=np.int32))\n",
        "thread_counter_race_condition[64, 64](global_counter)\n",
        "\n",
        "print('Should be %d:' % (64*64), global_counter.copy_to_host())"
      ]
    },
    {
      "cell_type": "code",
      "execution_count": null,
      "metadata": {
        "id": "i2j2Ja-d-8wd",
        "outputId": "d9079bcc-5cb7-44c1-f2de-05446ef66244"
      },
      "outputs": [
        {
          "name": "stdout",
          "output_type": "stream",
          "text": [
            "Should be 4096: [4096]\n"
          ]
        }
      ],
      "source": [
        "# This works correctly\n",
        "global_counter = cuda.to_device(np.array([0], dtype=np.int32))\n",
        "thread_counter_safe[64, 64](global_counter)\n",
        "\n",
        "print('Should be %d:' % (64*64), global_counter.copy_to_host())"
      ]
    },
    {
      "cell_type": "code",
      "execution_count": null,
      "metadata": {
        "collapsed": true,
        "id": "a_RXFFmk-8wd"
      },
      "outputs": [],
      "source": [
        "def cpu_histogram(x, xmin, xmax, histogram_out):\n",
        "    '''Increment bin counts in histogram_out, given histogram range [xmin, xmax).'''\n",
        "    nbins = histogram_out.shape[0]\n",
        "    bin_width = (xmax - xmin) / nbins\n",
        "    for element in x:\n",
        "        bin_number = np.int32((element - xmin)/bin_width)\n",
        "        if bin_number >= 0 and bin_number < histogram_out.shape[0]:\n",
        "            histogram_out[bin_number] += 1"
      ]
    },
    {
      "cell_type": "code",
      "execution_count": null,
      "metadata": {
        "id": "sRzlorg0-8we"
      },
      "outputs": [],
      "source": [
        "x = np.random.normal(size=10000, loc=0, scale=1).astype(np.float32)\n",
        "xmin = np.float32(-4.0)\n",
        "xmax = np.float32(4.0)\n",
        "histogram_out = np.zeros(shape=10, dtype=np.int32)\n",
        "\n",
        "cpu_histogram(x, xmin, xmax, histogram_out)\n",
        "\n",
        "histogram_out"
      ]
    },
    {
      "cell_type": "code",
      "execution_count": null,
      "metadata": {
        "collapsed": true,
        "id": "cEce7m-R-8we"
      },
      "outputs": [],
      "source": [
        "@cuda.jit\n",
        "def cuda_histogram(x, xmin, xmax, histogram_out):\n",
        "    '''Increment bin counts in histogram_out, given histogram range [xmin, xmax).'''\n",
        "    start = cuda.grid(1)\n",
        "    stride = cuda.gridsize(1)\n",
        "\n",
        "    nbins = histogram_out.shape[0]\n",
        "    bin_width = (xmax - xmin) / nbins\n",
        "\n",
        "    for i in range(start, x.shape[0], stride):\n",
        "        bin_number = np.int32((x[i] - xmin) / bin_width)\n",
        "        if bin_number >= 0 and bin_number < histogram_out.shape[0]:\n",
        "            cuda.atomic.add(histogram_out, bin_number, 1)"
      ]
    },
    {
      "cell_type": "code",
      "execution_count": null,
      "metadata": {
        "collapsed": true,
        "id": "0wyRrumm-8we"
      },
      "outputs": [],
      "source": [
        "d_x = cuda.to_device(x)\n",
        "d_histogram_out = cuda.to_device(np.zeros(shape=10, dtype=np.int32))\n",
        "\n",
        "blocks = 128\n",
        "threads_per_block = 64\n",
        "\n",
        "cuda_histogram[blocks, threads_per_block](d_x, xmin, xmax, d_histogram_out)"
      ]
    },
    {
      "cell_type": "code",
      "execution_count": null,
      "metadata": {
        "collapsed": true,
        "id": "GdJw_2Sh-8we"
      },
      "outputs": [],
      "source": [
        "\n",
        "np.testing.assert_array_almost_equal(d_histogram_out.copy_to_host(), histogram_out, decimal=2)"
      ]
    },
    {
      "cell_type": "code",
      "execution_count": null,
      "metadata": {
        "collapsed": true,
        "id": "ca9O9TFo-8wh"
      },
      "outputs": [],
      "source": [
        "import numpy as np\n",
        "from numba import cuda\n",
        "from numba.cuda.random import create_xoroshiro128p_states, xoroshiro128p_uniform_float32\n",
        "\n",
        "threads_per_block = 64\n",
        "blocks = 24\n",
        "rng_states = create_xoroshiro128p_states(threads_per_block * blocks, seed=1)"
      ]
    },
    {
      "cell_type": "code",
      "execution_count": null,
      "metadata": {
        "collapsed": true,
        "id": "DxN_ggLP-8wi"
      },
      "outputs": [],
      "source": [
        "@cuda.jit\n",
        "def monte_carlo_mean(rng_states, iterations, out):\n",
        "    thread_id = cuda.grid(1)\n",
        "    total = 0\n",
        "    for i in range(iterations):\n",
        "        sample = xoroshiro128p_uniform_float32(rng_states, thread_id)\n",
        "        total += sample\n",
        "\n",
        "    out[thread_id] = total/iterations"
      ]
    },
    {
      "cell_type": "code",
      "execution_count": null,
      "metadata": {
        "id": "g3-gkmx1-8wi",
        "outputId": "ec20dcb1-92eb-4012-ea38-f8ed6cb1c64f"
      },
      "outputs": [
        {
          "name": "stdout",
          "output_type": "stream",
          "text": [
            "0.50000983\n"
          ]
        }
      ],
      "source": [
        "out = cuda.device_array(threads_per_block * blocks, dtype=np.float32)\n",
        "monte_carlo_mean[blocks, threads_per_block](rng_states, 10000, out)\n",
        "print(out.copy_to_host().mean())"
      ]
    },
    {
      "cell_type": "code",
      "execution_count": null,
      "metadata": {
        "collapsed": true,
        "id": "_EdzjB6C-8wi"
      },
      "outputs": [],
      "source": [
        "from numba import njit\n",
        "import random\n",
        "\n",
        "@njit\n",
        "def monte_carlo_pi(nsamples):\n",
        "    acc = 0\n",
        "    for i in range(nsamples):\n",
        "        x = random.random()\n",
        "        y = random.random()\n",
        "        if (x**2 + y**2) < 1.0:\n",
        "            acc += 1\n",
        "    return 4.0 * acc / nsamples"
      ]
    },
    {
      "cell_type": "code",
      "execution_count": null,
      "metadata": {
        "id": "GpSdb9Zi-8wi",
        "outputId": "5eb4ce22-f757-47ae-9342-017811955863"
      },
      "outputs": [
        {
          "name": "stdout",
          "output_type": "stream",
          "text": [
            "105 ms ± 14.4 µs per loop (mean ± std. dev. of 7 runs, 10 loops each)\n"
          ]
        }
      ],
      "source": [
        "nsamples = 10000000\n",
        "%timeit monte_carlo_pi(nsamples)"
      ]
    },
    {
      "cell_type": "code",
      "execution_count": null,
      "metadata": {
        "collapsed": true,
        "id": "2igxiMTz-8wi"
      },
      "outputs": [],
      "source": [
        "from numba import njit\n",
        "import random\n",
        "\n",
        "@njit\n",
        "def monte_carlo_pi_device(nsamples):\n",
        "    acc = 0\n",
        "    for i in range(nsamples):\n",
        "        x = random.random()\n",
        "        y = random.random()\n",
        "        if (x**2 + y**2) < 1.0:\n",
        "            acc += 1\n",
        "    return 4.0 * acc / nsamples"
      ]
    },
    {
      "cell_type": "code",
      "execution_count": null,
      "metadata": {
        "collapsed": true,
        "id": "ByHcSZUW-8wi"
      },
      "outputs": [],
      "source": [
        "\n",
        "nsamples = 10000000\n",
        "threads_per_block = 128\n",
        "blocks = 32\n",
        "\n",
        "grid_size = threads_per_block * blocks\n",
        "samples_per_thread = int(nsamples / grid_size)\n",
        "\n",
        "rng_states = create_xoroshiro128p_states(grid_size, seed=1)\n",
        "d_out = cuda.device_array(threads_per_block * blocks, dtype=np.float32)"
      ]
    },
    {
      "cell_type": "code",
      "execution_count": null,
      "metadata": {
        "id": "0yWqJ-Du-8wj"
      },
      "outputs": [],
      "source": [
        "print(d_out.copy_to_host().mean())"
      ]
    }
  ],
  "metadata": {
    "kernelspec": {
      "display_name": "Python 3 (ipykernel)",
      "language": "python",
      "name": "python3"
    },
    "language_info": {
      "codemirror_mode": {
        "name": "ipython",
        "version": 3
      },
      "file_extension": ".py",
      "mimetype": "text/x-python",
      "name": "python",
      "nbconvert_exporter": "python",
      "pygments_lexer": "ipython3",
      "version": "3.8.8"
    },
    "colab": {
      "provenance": [],
      "include_colab_link": true
    }
  },
  "nbformat": 4,
  "nbformat_minor": 0
}